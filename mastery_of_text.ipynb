{
 "cells": [
  {
   "cell_type": "code",
   "execution_count": 24,
   "id": "9781246c-7bbe-4893-bbfc-617fc4b97721",
   "metadata": {},
   "outputs": [
    {
     "name": "stdout",
     "output_type": "stream",
     "text": [
      "Number of lines: 99968\n",
      "Word count: 824538\n",
      "Frequency of word: 113\n",
      "Most common word: the\n"
     ]
    }
   ],
   "source": [
    "import urllib.request\n",
    "url = urllib.request.urlopen(\"https://www.gutenberg.org/cache/epub/10/pg10.txt\")\n",
    "pg10_url = url.read()\n",
    "\n",
    "line_num = pg10_url.splitlines()\n",
    "line_num = len(line_num)\n",
    "print(\"Number of lines:\", line_num)\n",
    "\n",
    "word_count = pg10_url.split()\n",
    "print(\"Word count: \" + str(len(word_count)))\n",
    "\n",
    "pg10_url = str(pg10_url)\n",
    "apostle_count = pg10_url.count(\"apostle\") + pg10_url.count(\"Apostle\")\n",
    "print(\"Frequency of word: \" + str(apostle_count))\n",
    "\n",
    "file = pg10_url.split()\n",
    "word_count = {}\n",
    "for word in file:\n",
    "    lw = word.lower().strip(\".,!?;:'\\\"\")\n",
    "    if lw in word_count:\n",
    "        word_count[lw] += 1\n",
    "    else:\n",
    "        word_count[lw] = 1\n",
    "\n",
    "common = \"\"\n",
    "common_count = 0\n",
    "for word in word_count:\n",
    "    if word_count[word] > common_count:\n",
    "        common = word\n",
    "        common_count = word_count[word]\n",
    "\n",
    "print(\"Most common word:\", common)"
   ]
  },
  {
   "cell_type": "code",
   "execution_count": null,
   "id": "cba9ce34-2d10-46bc-a201-ec249c80b0c6",
   "metadata": {},
   "outputs": [],
   "source": []
  }
 ],
 "metadata": {
  "kernelspec": {
   "display_name": "Python [conda env:base] *",
   "language": "python",
   "name": "conda-base-py"
  },
  "language_info": {
   "codemirror_mode": {
    "name": "ipython",
    "version": 3
   },
   "file_extension": ".py",
   "mimetype": "text/x-python",
   "name": "python",
   "nbconvert_exporter": "python",
   "pygments_lexer": "ipython3",
   "version": "3.12.7"
  }
 },
 "nbformat": 4,
 "nbformat_minor": 5
}
